{
 "cells": [
  {
   "cell_type": "code",
   "execution_count": null,
   "metadata": {},
   "outputs": [],
   "source": [
    "'''\n",
    "Here we are going to create Folders named Processing, Queue and Processed and after  that we are going to write \n",
    "a code that makes a text formated file every second in the Processing folder, picks up all the files from processing \n",
    "and moves all the files to the queue in every 5 seconds. It then picks files from the queue folder and updates \n",
    "a column in MySQL/mongoDB table as 0/1 and moves the file to the Processed folder Also, make sure that no files \n",
    "are moved from Processing to queue until the queue folder is empty.\n",
    "\n",
    "'''"
   ]
  },
  {
   "cell_type": "code",
   "execution_count": null,
   "metadata": {},
   "outputs": [],
   "source": [
    "''' Here we are going to load and import all the required libraries '''\n",
    "\n",
    "from time import sleep\n",
    "from threading import *\n",
    "import shutil\n",
    "import os\n",
    "import warnings\n",
    "import pymysql\n",
    "warnings.filterwarnings('ignore')"
   ]
  },
  {
   "cell_type": "code",
   "execution_count": null,
   "metadata": {},
   "outputs": [],
   "source": [
    "''' This class is used to create a folders automatically. And clear the database for the first time '''\n",
    "\n",
    "class Folders:\n",
    "    def __init__(self):\n",
    "        self.Queue = \"Queue\"\n",
    "        self.Processing = \"Processing\"\n",
    "        self.Processed = \"Processed\"\n",
    "        con=pymysql.connect(host='localhost',user='root',password='root',database='assignment')\n",
    "        cur=con.cursor()\n",
    "        cur.execute(\"delete from files\")\n",
    "        con.commit()\n",
    "        con.close()\n",
    "\n",
    "        if(os.path.exists(self.Queue)) and (os.path.exists(self.Processed)) and (os.path.exists(self.Processing)):\n",
    "            shutil.rmtree(self.Queue)\n",
    "            shutil.rmtree(self.Processing)\n",
    "            shutil.rmtree(self.Processed)\n",
    "            \n",
    "            os.mkdir(self.Queue)\n",
    "            os.mkdir(self.Processing)\n",
    "            os.mkdir(self.Processed)\n",
    "        else:\n",
    "            os.mkdir(self.Queue)\n",
    "            os.mkdir(self.Processing)\n",
    "            os.mkdir(self.Processed)"
   ]
  },
  {
   "cell_type": "code",
   "execution_count": null,
   "metadata": {},
   "outputs": [],
   "source": [
    "''' here we are going to create blank files in every second in the Processing folder '''\n",
    "\n",
    "class Processing(Thread):\n",
    "    def run(self):\n",
    "        i = 1\n",
    "        while(True):\n",
    "            open(\"Processing/file_\"+str(i)+\".txt\",\"w\")\n",
    "            i += 1\n",
    "            sleep(1)\n"
   ]
  },
  {
   "cell_type": "code",
   "execution_count": null,
   "metadata": {},
   "outputs": [],
   "source": [
    "''' Now we aer going to move all the files in every 5 seconds from the Processing folder to Queue folder. \n",
    "In every five seconds, processing folder creates the 5 files, after that creating the 5 files in 5 seconds, \n",
    "moved to the Queue folder. '''\n",
    "\n",
    "class Queue(Thread):\n",
    "    def run(self):\n",
    "        src = 'Processing'\n",
    "        dest = 'Queue'\n",
    "        while(True):\n",
    "            if len(os.listdir(src)) == 5: \n",
    "                for file in os.listdir(src):\n",
    "                    file_name = os.path.join(src, file)\n",
    "                    shutil.move(file_name, dest)\n",
    "                    \n",
    "        "
   ]
  },
  {
   "cell_type": "code",
   "execution_count": null,
   "metadata": {},
   "outputs": [],
   "source": [
    "''' Now all the files are moved from Queue folder to Processed folder and going to update the status in the database for each file with processed '''\n",
    "\n",
    "class Processed(Thread):\n",
    "    def run(self):\n",
    "        dest = 'Processed'\n",
    "        src = 'Queue'\n",
    "       \n",
    "        while(True):\n",
    "            sleep(2)\n",
    "            if len(os.listdir(src)) != 0:\n",
    "                for file in os.listdir(src):\n",
    "                    con=pymysql.connect(host='localhost',user='root',password='root',database='assignment')\n",
    "                    cur=con.cursor()\n",
    "                    cur.execute('insert into files values(%s,%s)',(file,1))\n",
    "                    con.commit()\n",
    "                    con.close()\n",
    "                    file_name = os.path.join(src, file)\n",
    "                    shutil.move(file_name, dest)\n"
   ]
  },
  {
   "cell_type": "code",
   "execution_count": null,
   "metadata": {
    "scrolled": true
   },
   "outputs": [],
   "source": [
    "\n",
    "''' Create object of Folder Class '''\n",
    "f = Folders()\n",
    "\n",
    "'''Creating objects of every thread'''\n",
    "Processing_thread = Processing()\n",
    "Queue_thread = Queue()\n",
    "Processed_thread = Processed()\n",
    "\n",
    "\n",
    "'''Start the Thread'''\n",
    "Processing_thread.start()\n",
    "Queue_thread.start()\n",
    "Processed_thread.start()"
   ]
  },
  {
   "cell_type": "code",
   "execution_count": null,
   "metadata": {},
   "outputs": [],
   "source": []
  }
 ],
 "metadata": {
  "kernelspec": {
   "display_name": "Python 3 (ipykernel)",
   "language": "python",
   "name": "python3"
  },
  "language_info": {
   "codemirror_mode": {
    "name": "ipython",
    "version": 3
   },
   "file_extension": ".py",
   "mimetype": "text/x-python",
   "name": "python",
   "nbconvert_exporter": "python",
   "pygments_lexer": "ipython3",
   "version": "3.8.8"
  }
 },
 "nbformat": 4,
 "nbformat_minor": 2
}
